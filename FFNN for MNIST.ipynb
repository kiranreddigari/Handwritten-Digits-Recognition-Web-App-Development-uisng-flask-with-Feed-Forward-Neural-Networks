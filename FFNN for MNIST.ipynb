{
 "cells": [
  {
   "cell_type": "code",
   "execution_count": 1,
   "metadata": {},
   "outputs": [
    {
     "name": "stderr",
     "output_type": "stream",
     "text": [
      "Using TensorFlow backend.\n"
     ]
    }
   ],
   "source": [
    "from keras.datasets import mnist\n",
    "#loading the mnist dataset\n",
    "\n",
    "(train_data,train_target),(test_data,test_target)=mnist.load_data()\n",
    "#spliting the dataset into training and testing"
   ]
  },
  {
   "cell_type": "code",
   "execution_count": 2,
   "metadata": {},
   "outputs": [
    {
     "data": {
      "image/png": "[encoded data removed]",
      "text/plain": [
       "<Figure size 432x288 with 1 Axes>"
      ]
     },
     "metadata": {
      "needs_background": "light"
     },
     "output_type": "display_data"
    }
   ],
   "source": [
    "from matplotlib import pyplot as plt\n",
    "\n",
    "plt.imshow(train_data[0],cmap='gray')\n",
    "plt.show()"
   ]
  },
  {
   "cell_type": "code",
   "execution_count": 3,
   "metadata": {},
   "outputs": [
    {
     "name": "stdout",
     "output_type": "stream",
     "text": [
      "5\n"
     ]
    }
   ],
   "source": [
    "print(train_target[0])"
   ]
  },
  {
   "cell_type": "code",
   "execution_count": 4,
   "metadata": {},
   "outputs": [],
   "source": [
    "train_data=train_data/255.0\n",
    "test_data=test_data/255.0\n",
    "#Scaling the 0-255 gray image to 0-1 (Requirement before training the Neural Network)"
   ]
  },
  {
   "cell_type": "code",
   "execution_count": 5,
   "metadata": {},
   "outputs": [
    {
     "name": "stdout",
     "output_type": "stream",
     "text": [
      "Model: \"sequential_1\"\n",
      "_________________________________________________________________\n",
      "Layer (type)                 Output Shape              Param #   \n",
      "=================================================================\n",
      "flatten_1 (Flatten)          (None, 784)               0         \n",
      "_________________________________________________________________\n",
      "dense_1 (Dense)              (None, 512)               401920    \n",
      "_________________________________________________________________\n",
      "dense_2 (Dense)              (None, 256)               131328    \n",
      "_________________________________________________________________\n",
      "dense_3 (Dense)              (None, 10)                2570      \n",
      "=================================================================\n",
      "Total params: 535,818\n",
      "Trainable params: 535,818\n",
      "Non-trainable params: 0\n",
      "_________________________________________________________________\n"
     ]
    }
   ],
   "source": [
    "from keras.models import Sequential\n",
    "#loading Sequential model from keras\n",
    "from keras.layers import Dense,Flatten\n",
    "#loading Flatten and Dense layers from keras\n",
    "\n",
    "model=Sequential()\n",
    "#creating a Sequential type neural network (a empty neural network, add layer by layer)\n",
    "model.add(Flatten(input_shape=(28,28)))\n",
    "#a flatten layer to flatten up the 28x28 input image into 784 inputs\n",
    "model.add(Dense(512, activation='relu'))\n",
    "#1st Hidden layer with 512 Neurons\n",
    "model.add(Dense(256, activation='relu'))\n",
    "#2nd Hidden layer with 256 Neurons\n",
    "model.add(Dense(10, activation='softmax'))\n",
    "model.compile(optimizer='adam',loss='categorical_crossentropy',metrics=['accuracy'])\n",
    "#compiling the neural network with necessary parameters\n",
    "\n",
    "model.summary()\n",
    "#neural network architecture and parameters"
   ]
  },
  {
   "cell_type": "code",
   "execution_count": 6,
   "metadata": {},
   "outputs": [
    {
     "name": "stdout",
     "output_type": "stream",
     "text": [
      "[[0. 0. 0. 0. 0. 1. 0. 0. 0. 0.]\n",
      " [1. 0. 0. 0. 0. 0. 0. 0. 0. 0.]\n",
      " [0. 0. 0. 0. 1. 0. 0. 0. 0. 0.]\n",
      " [0. 1. 0. 0. 0. 0. 0. 0. 0. 0.]\n",
      " [0. 0. 0. 0. 0. 0. 0. 0. 0. 1.]\n",
      " [0. 0. 1. 0. 0. 0. 0. 0. 0. 0.]\n",
      " [0. 1. 0. 0. 0. 0. 0. 0. 0. 0.]\n",
      " [0. 0. 0. 1. 0. 0. 0. 0. 0. 0.]\n",
      " [0. 1. 0. 0. 0. 0. 0. 0. 0. 0.]\n",
      " [0. 0. 0. 0. 1. 0. 0. 0. 0. 0.]]\n"
     ]
    }
   ],
   "source": [
    "from keras.utils import np_utils\n",
    "\n",
    "\n",
    "train_target=np_utils.to_categorical(train_target)\n",
    "test_target=np_utils.to_categorical(test_target)\n",
    "#convering the labels into a categorical representation\n",
    "\n",
    "\n",
    "print(train_target[:10])"
   ]
  },
  {
   "cell_type": "code",
   "execution_count": 7,
   "metadata": {},
   "outputs": [
    {
     "name": "stdout",
     "output_type": "stream",
     "text": [
      "Train on 48000 samples, validate on 12000 samples\n",
      "Epoch 1/10\n",
      "48000/48000 [==============================] - 12s 244us/step - loss: 0.2058 - accuracy: 0.9375 - val_loss: 0.1352 - val_accuracy: 0.9605\n",
      "Epoch 2/10\n",
      "48000/48000 [==============================] - 14s 293us/step - loss: 0.0846 - accuracy: 0.9747 - val_loss: 0.0921 - val_accuracy: 0.9728\n",
      "Epoch 3/10\n",
      "48000/48000 [==============================] - 14s 287us/step - loss: 0.0565 - accuracy: 0.9828 - val_loss: 0.1041 - val_accuracy: 0.9702\n",
      "Epoch 4/10\n",
      "48000/48000 [==============================] - 14s 283us/step - loss: 0.0439 - accuracy: 0.9853 - val_loss: 0.0940 - val_accuracy: 0.9749\n",
      "Epoch 5/10\n",
      "48000/48000 [==============================] - 14s 290us/step - loss: 0.0344 - accuracy: 0.9890 - val_loss: 0.0987 - val_accuracy: 0.9728\n",
      "Epoch 6/10\n",
      "48000/48000 [==============================] - 15s 303us/step - loss: 0.0279 - accuracy: 0.9910 - val_loss: 0.0978 - val_accuracy: 0.9771\n",
      "Epoch 7/10\n",
      "48000/48000 [==============================] - 14s 289us/step - loss: 0.0239 - accuracy: 0.9926 - val_loss: 0.1026 - val_accuracy: 0.9777\n",
      "Epoch 8/10\n",
      "48000/48000 [==============================] - 14s 286us/step - loss: 0.0215 - accuracy: 0.9934 - val_loss: 0.1184 - val_accuracy: 0.9759\n",
      "Epoch 9/10\n",
      "48000/48000 [==============================] - 14s 294us/step - loss: 0.0177 - accuracy: 0.9940 - val_loss: 0.1303 - val_accuracy: 0.9732\n",
      "Epoch 10/10\n",
      "48000/48000 [==============================] - 14s 285us/step - loss: 0.0189 - accuracy: 0.9938 - val_loss: 0.1297 - val_accuracy: 0.9743\n"
     ]
    },
    {
     "data": {
      "text/plain": [
       "<keras.callbacks.callbacks.History at 0x2755fa82988>"
      ]
     },
     "execution_count": 7,
     "metadata": {},
     "output_type": "execute_result"
    }
   ],
   "source": [
    "model.fit(train_data,train_target,epochs=10,validation_split=0.2)\n",
    "#training the neural network for 20 epochs"
   ]
  },
  {
   "cell_type": "code",
   "execution_count": 8,
   "metadata": {},
   "outputs": [
    {
     "data": {
      "image/png": "[encoded data removed]",
      "text/plain": [
       "<Figure size 432x288 with 1 Axes>"
      ]
     },
     "metadata": {
      "needs_background": "light"
     },
     "output_type": "display_data"
    }
   ],
   "source": [
    "from matplotlib import pyplot as plt\n",
    "\n",
    "plt.plot(model.history.history['loss'],label='loss')\n",
    "plt.plot(model.history.history['val_loss'],label='validation loss')\n",
    "plt.legend()\n",
    "plt.xlabel('# epochs')\n",
    "plt.ylabel('loss')\n",
    "plt.show()\n",
    "#visualizing the loss"
   ]
  },
  {
   "cell_type": "code",
   "execution_count": 9,
   "metadata": {},
   "outputs": [
    {
     "data": {
      "image/png": "[encoded data removed]",
      "text/plain": [
       "<Figure size 432x288 with 1 Axes>"
      ]
     },
     "metadata": {
      "needs_background": "light"
     },
     "output_type": "display_data"
    }
   ],
   "source": [
    "\n",
    "plt.plot(model.history.history['accuracy'],label='loss')\n",
    "plt.plot(model.history.history['val_accuracy'],label='validation accuracy')\n",
    "plt.legend()\n",
    "plt.xlabel('# epochs')\n",
    "plt.ylabel('accuracy')\n",
    "plt.show()\n",
    "#visualizing the accuracy"
   ]
  },
  {
   "cell_type": "code",
   "execution_count": 10,
   "metadata": {},
   "outputs": [
    {
     "name": "stdout",
     "output_type": "stream",
     "text": [
      "10000/10000 [==============================] - 0s 44us/step\n",
      "[0.09424253231410766, 0.9782999753952026]\n"
     ]
    }
   ],
   "source": [
    "print(model.evaluate(test_data,test_target))"
   ]
  },
  {
   "cell_type": "code",
   "execution_count": 11,
   "metadata": {},
   "outputs": [
    {
     "name": "stdout",
     "output_type": "stream",
     "text": [
      "[[1.10085643e-15 3.10367364e-17 1.11298937e-12 2.06243537e-13\n",
      "  1.94442794e-20 1.32145088e-19 7.25758245e-25 1.00000000e+00\n",
      "  3.71703468e-17 3.21099159e-12]\n",
      " [2.19526419e-19 7.64273089e-10 1.00000000e+00 2.52161361e-17\n",
      "  1.08633089e-22 1.24301097e-23 9.13357581e-20 9.29754152e-18\n",
      "  3.76571658e-17 9.31426925e-24]\n",
      " [2.23697172e-10 1.00000000e+00 3.61568020e-08 1.00481096e-14\n",
      "  5.58511681e-09 1.61993682e-12 1.23167814e-08 1.46480850e-09\n",
      "  3.63292756e-08 1.17441647e-13]\n",
      " [1.00000000e+00 5.40139358e-15 1.51477035e-08 8.32417563e-14\n",
      "  3.67521985e-11 1.27269858e-13 1.54887636e-09 1.55351621e-12\n",
      "  3.71150419e-12 2.84321211e-09]\n",
      " [3.88327738e-12 1.72283993e-11 1.07345798e-14 5.54720660e-16\n",
      "  1.00000000e+00 6.80802647e-15 8.38697601e-12 1.94791809e-08\n",
      "  4.63358085e-13 4.39257377e-08]\n",
      " [6.38463804e-12 1.00000000e+00 1.79278174e-12 2.99047199e-17\n",
      "  6.86302348e-10 3.74310424e-16 1.47300210e-11 8.00161881e-10\n",
      "  1.86053506e-09 3.36436002e-15]\n",
      " [6.91380055e-15 1.85965609e-12 2.71225669e-13 3.23755752e-13\n",
      "  9.99971509e-01 1.20819993e-10 2.06278571e-13 8.15853496e-10\n",
      "  2.55509367e-05 2.98384566e-06]\n",
      " [1.74649462e-11 9.27702304e-10 6.51956782e-08 9.07816866e-04\n",
      "  1.14570157e-05 2.39197355e-08 4.82794084e-15 3.02548600e-08\n",
      "  4.07862188e-07 9.99080181e-01]\n",
      " [4.99604535e-13 1.26815500e-08 1.07598180e-06 2.47749252e-11\n",
      "  3.39671780e-12 7.72919357e-01 2.26963907e-01 8.13249641e-12\n",
      "  1.15605995e-04 1.67507197e-09]\n",
      " [1.85756293e-12 5.41282886e-14 1.79845271e-11 2.85081070e-10\n",
      "  2.02931304e-07 1.47004544e-11 4.07896154e-16 2.19946378e-06\n",
      "  3.06126196e-07 9.99997258e-01]]\n"
     ]
    }
   ],
   "source": [
    "results=model.predict(test_data)\n",
    "print(results[:10])\n",
    "#testing and getting results using unseen data"
   ]
  },
  {
   "cell_type": "code",
   "execution_count": 12,
   "metadata": {},
   "outputs": [],
   "source": [
    "import numpy as np\n",
    "results=np.argmax(results,axis=1)\n",
    "#scaling it using argmax"
   ]
  },
  {
   "cell_type": "code",
   "execution_count": 13,
   "metadata": {},
   "outputs": [
    {
     "name": "stdout",
     "output_type": "stream",
     "text": [
      "[[0. 0. 0. 0. 0. 0. 0. 1. 0. 0.]\n",
      " [0. 0. 1. 0. 0. 0. 0. 0. 0. 0.]\n",
      " [0. 1. 0. 0. 0. 0. 0. 0. 0. 0.]\n",
      " [1. 0. 0. 0. 0. 0. 0. 0. 0. 0.]\n",
      " [0. 0. 0. 0. 1. 0. 0. 0. 0. 0.]\n",
      " [0. 1. 0. 0. 0. 0. 0. 0. 0. 0.]\n",
      " [0. 0. 0. 0. 1. 0. 0. 0. 0. 0.]\n",
      " [0. 0. 0. 0. 0. 0. 0. 0. 0. 1.]\n",
      " [0. 0. 0. 0. 0. 1. 0. 0. 0. 0.]\n",
      " [0. 0. 0. 0. 0. 0. 0. 0. 0. 1.]]\n",
      "[7 2 1 0 4 1 4 9 5 9]\n"
     ]
    }
   ],
   "source": [
    "print(test_target[:10])\n",
    "print(results[:10])"
   ]
  },
  {
   "cell_type": "code",
   "execution_count": 14,
   "metadata": {},
   "outputs": [],
   "source": [
    "model.save_weights('FFNN-MNIST.h5')"
   ]
  },
  {
   "cell_type": "code",
   "execution_count": null,
   "metadata": {},
   "outputs": [],
   "source": []
  }
 ],
 "metadata": {
  "kernelspec": {
   "display_name": "Python 3",
   "language": "python",
   "name": "python3"
  },
  "language_info": {
   "codemirror_mode": {
    "name": "ipython",
    "version": 3
   },
   "file_extension": ".py",
   "mimetype": "text/x-python",
   "name": "python",
   "nbconvert_exporter": "python",
   "pygments_lexer": "ipython3",
   "version": "3.7.9"
  }
 },
 "nbformat": 4,
 "nbformat_minor": 4
}
